{
 "cells": [
  {
   "cell_type": "code",
   "execution_count": 18,
   "metadata": {},
   "outputs": [],
   "source": [
    "from pyspark.sql import SparkSession\n",
    "from pyspark.sql.types import StructType, StructField, IntegerType, StringType, FloatType, DateType\n",
    "from pyspark.sql.functions import col, when\n"
   ]
  },
  {
   "cell_type": "code",
   "execution_count": 19,
   "metadata": {},
   "outputs": [],
   "source": [
    "\n",
    "# Define el esquema de los datos\n",
    "schema = StructType([\n",
    "    StructField('PERCOD', IntegerType(), True),\n",
    "    StructField('CONCOD', IntegerType(), True),\n",
    "    StructField('ABOCOD', IntegerType(), True),\n",
    "    StructField('CONFCHFINV', DateType(), True),\n",
    "    StructField('CONFCHINIV', DateType(), True),\n",
    "    StructField('CONSTSHAB', StringType(), True),\n",
    "    StructField('CONSTSCON', StringType(), True),\n",
    "    StructField('PAQCOD', IntegerType(), True),\n",
    "    StructField('INGCOD', IntegerType(), True),\n",
    "    StructField('SISCOD', IntegerType(), True),\n",
    "    StructField('GRPAFICOD', IntegerType(), True),\n",
    "    StructField('CONFCHULTF', DateType(), True),\n",
    "    StructField('CONFCHING', DateType(), True),\n",
    "    StructField('CONSTSIMP', StringType(), True),\n",
    "    StructField('CONFCHINS', DateType(), True),\n",
    "    StructField('CNVABOFCHI', DateType(), True),\n",
    "    StructField('TPOABOCOD', IntegerType(), True),\n",
    "    StructField('POLCOMCOD', IntegerType(), True),\n",
    "    StructField('CONCTLNRO', IntegerType(), True),\n",
    "    StructField('PROCOD', StringType(), True),\n",
    "    StructField('CONCNTPAQ', IntegerType(), True),\n",
    "    StructField('CONFECSIS', DateType(), True),\n",
    "    StructField('CONUSRID', StringType(), True),\n",
    "    StructField('PAQFLGTPO', StringType(), True),\n",
    "    StructField('CDEPNRO', IntegerType(), True),\n",
    "    StructField('CALQFCHDEV', DateType(), True),\n",
    "    StructField('CALQSTSDEV', StringType(), True),\n",
    "    StructField('CALQNROCON', StringType(), True),\n",
    "    StructField('CALQIMP', FloatType(), True),\n",
    "    StructField('ALQCTLNRO', IntegerType(), True),\n",
    "    StructField('ALQCTLSER', StringType(), True),\n",
    "    StructField('CDGARSUCID', IntegerType(), True),\n",
    "    StructField('DECCTLNRO', IntegerType(), True),\n",
    "    StructField('DECCTLSER', StringType(), True),\n",
    "    StructField('CDEPSTS', StringType(), True),\n",
    "    StructField('CDGARNRORE', StringType(), True),\n",
    "    StructField('CDGARNROCO', StringType(), True),\n",
    "    StructField('CDGARFCHDE', DateType(), True),\n",
    "    StructField('CDGARIMPDE', FloatType(), True),\n",
    "    StructField('CDGARFCH', DateType(), True),\n",
    "    StructField('CDGARIMP', FloatType(), True),\n",
    "    StructField('CDEPTPO', StringType(), True),\n",
    "    StructField('CSUCIDDEV', IntegerType(), True),\n",
    "    StructField('CONFCHDXC', DateType(), True),\n",
    "    StructField('PROMCOD', IntegerType(), True),\n",
    "    StructField('CONCBOCOD', IntegerType(), True),\n",
    "    StructField('GCSER', IntegerType(), True),\n",
    "    StructField('CONFCHSER', DateType(), True),\n",
    "    StructField('CONDECPPV', StringType(), True),\n",
    "    StructField('ABOSUCID', IntegerType(), True),\n",
    "    StructField('CONFLG', StringType(), True),\n",
    "    StructField('IPROCOD', IntegerType(), True),\n",
    "    StructField('UCONCTRLCOD', IntegerType(), True),\n",
    "    StructField('CLIDCALCOD', IntegerType(), True),\n",
    "    StructField('CONFLGFAC', StringType(), True),\n",
    "    StructField('CONACCION', StringType(), True),\n",
    "    StructField('CONAGEFIN', IntegerType(), True),\n",
    "    StructField('CONAGEINI', IntegerType(), True),\n",
    "    StructField('CONFCHAGE', DateType(), True),\n",
    "    StructField('CONUSUACCION', StringType(), True),\n",
    "    StructField('CONAGEUSU', StringType(), True),\n",
    "    StructField('CONUSUCOM', IntegerType(), True),\n",
    "    StructField('CONNROFOL', StringType(), True),\n",
    "    StructField('CONORDOBS', StringType(), True),\n",
    "    StructField('CONFLGIMP', StringType(), True),\n",
    "    StructField('CONCAMNOM', StringType(), True),\n",
    "    StructField('CONCABFLG', StringType(), True),\n",
    "    StructField('CONRECAUTFLG', StringType(), True),\n",
    "    StructField('CONRECFLG', StringType(), True),\n",
    "    StructField('RECONVERSION2018', StringType(), True),\n",
    "    StructField('RECONVERSION2021', StringType(), True)\n",
    "])\n",
    "\n"
   ]
  },
  {
   "cell_type": "code",
   "execution_count": 20,
   "metadata": {},
   "outputs": [
    {
     "ename": "RuntimeError",
     "evalue": "Java gateway process exited before sending its port number",
     "output_type": "error",
     "traceback": [
      "\u001b[1;31m---------------------------------------------------------------------------\u001b[0m",
      "\u001b[1;31mRuntimeError\u001b[0m                              Traceback (most recent call last)",
      "\u001b[1;32mc:\\Users\\moren\\Desktop\\Inter Strata\\Untasditled-1.ipynb Cell 3\u001b[0m in \u001b[0;36m<cell line: 2>\u001b[1;34m()\u001b[0m\n\u001b[0;32m      <a href='vscode-notebook-cell:/c%3A/Users/moren/Desktop/Inter%20Strata/Untasditled-1.ipynb#W2sZmlsZQ%3D%3D?line=0'>1</a>\u001b[0m \u001b[39m# Inicializa SparkSession\u001b[39;00m\n\u001b[0;32m      <a href='vscode-notebook-cell:/c%3A/Users/moren/Desktop/Inter%20Strata/Untasditled-1.ipynb#W2sZmlsZQ%3D%3D?line=1'>2</a>\u001b[0m spark \u001b[39m=\u001b[39m SparkSession\u001b[39m.\u001b[39;49mbuilder \\\n\u001b[0;32m      <a href='vscode-notebook-cell:/c%3A/Users/moren/Desktop/Inter%20Strata/Untasditled-1.ipynb#W2sZmlsZQ%3D%3D?line=2'>3</a>\u001b[0m     \u001b[39m.\u001b[39;49mappName(\u001b[39m\"\u001b[39;49m\u001b[39mTransformando CSV con Spark\u001b[39;49m\u001b[39m\"\u001b[39;49m) \\\n\u001b[1;32m----> <a href='vscode-notebook-cell:/c%3A/Users/moren/Desktop/Inter%20Strata/Untasditled-1.ipynb#W2sZmlsZQ%3D%3D?line=3'>4</a>\u001b[0m     \u001b[39m.\u001b[39;49mgetOrCreate()\n\u001b[0;32m      <a href='vscode-notebook-cell:/c%3A/Users/moren/Desktop/Inter%20Strata/Untasditled-1.ipynb#W2sZmlsZQ%3D%3D?line=5'>6</a>\u001b[0m \u001b[39m# Carga el CSV con el esquema definido\u001b[39;00m\n\u001b[0;32m      <a href='vscode-notebook-cell:/c%3A/Users/moren/Desktop/Inter%20Strata/Untasditled-1.ipynb#W2sZmlsZQ%3D%3D?line=6'>7</a>\u001b[0m df \u001b[39m=\u001b[39m spark\u001b[39m.\u001b[39mread\u001b[39m.\u001b[39mcsv(\u001b[39m\"\u001b[39m\u001b[39mTabla ConAbo completa.csv\u001b[39m\u001b[39m\"\u001b[39m, header\u001b[39m=\u001b[39m\u001b[39mTrue\u001b[39;00m, schema\u001b[39m=\u001b[39mschema)\n",
      "File \u001b[1;32m~\\AppData\\Local\\Packages\\PythonSoftwareFoundation.Python.3.10_qbz5n2kfra8p0\\LocalCache\\local-packages\\Python310\\site-packages\\pyspark\\sql\\session.py:477\u001b[0m, in \u001b[0;36mSparkSession.Builder.getOrCreate\u001b[1;34m(self)\u001b[0m\n\u001b[0;32m    475\u001b[0m     sparkConf\u001b[39m.\u001b[39mset(key, value)\n\u001b[0;32m    476\u001b[0m \u001b[39m# This SparkContext may be an existing one.\u001b[39;00m\n\u001b[1;32m--> 477\u001b[0m sc \u001b[39m=\u001b[39m SparkContext\u001b[39m.\u001b[39;49mgetOrCreate(sparkConf)\n\u001b[0;32m    478\u001b[0m \u001b[39m# Do not update `SparkConf` for existing `SparkContext`, as it's shared\u001b[39;00m\n\u001b[0;32m    479\u001b[0m \u001b[39m# by all sessions.\u001b[39;00m\n\u001b[0;32m    480\u001b[0m session \u001b[39m=\u001b[39m SparkSession(sc, options\u001b[39m=\u001b[39m\u001b[39mself\u001b[39m\u001b[39m.\u001b[39m_options)\n",
      "File \u001b[1;32m~\\AppData\\Local\\Packages\\PythonSoftwareFoundation.Python.3.10_qbz5n2kfra8p0\\LocalCache\\local-packages\\Python310\\site-packages\\pyspark\\context.py:512\u001b[0m, in \u001b[0;36mSparkContext.getOrCreate\u001b[1;34m(cls, conf)\u001b[0m\n\u001b[0;32m    510\u001b[0m \u001b[39mwith\u001b[39;00m SparkContext\u001b[39m.\u001b[39m_lock:\n\u001b[0;32m    511\u001b[0m     \u001b[39mif\u001b[39;00m SparkContext\u001b[39m.\u001b[39m_active_spark_context \u001b[39mis\u001b[39;00m \u001b[39mNone\u001b[39;00m:\n\u001b[1;32m--> 512\u001b[0m         SparkContext(conf\u001b[39m=\u001b[39;49mconf \u001b[39mor\u001b[39;49;00m SparkConf())\n\u001b[0;32m    513\u001b[0m     \u001b[39massert\u001b[39;00m SparkContext\u001b[39m.\u001b[39m_active_spark_context \u001b[39mis\u001b[39;00m \u001b[39mnot\u001b[39;00m \u001b[39mNone\u001b[39;00m\n\u001b[0;32m    514\u001b[0m     \u001b[39mreturn\u001b[39;00m SparkContext\u001b[39m.\u001b[39m_active_spark_context\n",
      "File \u001b[1;32m~\\AppData\\Local\\Packages\\PythonSoftwareFoundation.Python.3.10_qbz5n2kfra8p0\\LocalCache\\local-packages\\Python310\\site-packages\\pyspark\\context.py:198\u001b[0m, in \u001b[0;36mSparkContext.__init__\u001b[1;34m(self, master, appName, sparkHome, pyFiles, environment, batchSize, serializer, conf, gateway, jsc, profiler_cls, udf_profiler_cls, memory_profiler_cls)\u001b[0m\n\u001b[0;32m    192\u001b[0m \u001b[39mif\u001b[39;00m gateway \u001b[39mis\u001b[39;00m \u001b[39mnot\u001b[39;00m \u001b[39mNone\u001b[39;00m \u001b[39mand\u001b[39;00m gateway\u001b[39m.\u001b[39mgateway_parameters\u001b[39m.\u001b[39mauth_token \u001b[39mis\u001b[39;00m \u001b[39mNone\u001b[39;00m:\n\u001b[0;32m    193\u001b[0m     \u001b[39mraise\u001b[39;00m \u001b[39mValueError\u001b[39;00m(\n\u001b[0;32m    194\u001b[0m         \u001b[39m\"\u001b[39m\u001b[39mYou are trying to pass an insecure Py4j gateway to Spark. This\u001b[39m\u001b[39m\"\u001b[39m\n\u001b[0;32m    195\u001b[0m         \u001b[39m\"\u001b[39m\u001b[39m is not allowed as it is a security risk.\u001b[39m\u001b[39m\"\u001b[39m\n\u001b[0;32m    196\u001b[0m     )\n\u001b[1;32m--> 198\u001b[0m SparkContext\u001b[39m.\u001b[39;49m_ensure_initialized(\u001b[39mself\u001b[39;49m, gateway\u001b[39m=\u001b[39;49mgateway, conf\u001b[39m=\u001b[39;49mconf)\n\u001b[0;32m    199\u001b[0m \u001b[39mtry\u001b[39;00m:\n\u001b[0;32m    200\u001b[0m     \u001b[39mself\u001b[39m\u001b[39m.\u001b[39m_do_init(\n\u001b[0;32m    201\u001b[0m         master,\n\u001b[0;32m    202\u001b[0m         appName,\n\u001b[1;32m   (...)\u001b[0m\n\u001b[0;32m    212\u001b[0m         memory_profiler_cls,\n\u001b[0;32m    213\u001b[0m     )\n",
      "File \u001b[1;32m~\\AppData\\Local\\Packages\\PythonSoftwareFoundation.Python.3.10_qbz5n2kfra8p0\\LocalCache\\local-packages\\Python310\\site-packages\\pyspark\\context.py:432\u001b[0m, in \u001b[0;36mSparkContext._ensure_initialized\u001b[1;34m(cls, instance, gateway, conf)\u001b[0m\n\u001b[0;32m    430\u001b[0m \u001b[39mwith\u001b[39;00m SparkContext\u001b[39m.\u001b[39m_lock:\n\u001b[0;32m    431\u001b[0m     \u001b[39mif\u001b[39;00m \u001b[39mnot\u001b[39;00m SparkContext\u001b[39m.\u001b[39m_gateway:\n\u001b[1;32m--> 432\u001b[0m         SparkContext\u001b[39m.\u001b[39m_gateway \u001b[39m=\u001b[39m gateway \u001b[39mor\u001b[39;00m launch_gateway(conf)\n\u001b[0;32m    433\u001b[0m         SparkContext\u001b[39m.\u001b[39m_jvm \u001b[39m=\u001b[39m SparkContext\u001b[39m.\u001b[39m_gateway\u001b[39m.\u001b[39mjvm\n\u001b[0;32m    435\u001b[0m     \u001b[39mif\u001b[39;00m instance:\n",
      "File \u001b[1;32m~\\AppData\\Local\\Packages\\PythonSoftwareFoundation.Python.3.10_qbz5n2kfra8p0\\LocalCache\\local-packages\\Python310\\site-packages\\pyspark\\java_gateway.py:106\u001b[0m, in \u001b[0;36mlaunch_gateway\u001b[1;34m(conf, popen_kwargs)\u001b[0m\n\u001b[0;32m    103\u001b[0m     time\u001b[39m.\u001b[39msleep(\u001b[39m0.1\u001b[39m)\n\u001b[0;32m    105\u001b[0m \u001b[39mif\u001b[39;00m \u001b[39mnot\u001b[39;00m os\u001b[39m.\u001b[39mpath\u001b[39m.\u001b[39misfile(conn_info_file):\n\u001b[1;32m--> 106\u001b[0m     \u001b[39mraise\u001b[39;00m \u001b[39mRuntimeError\u001b[39;00m(\u001b[39m\"\u001b[39m\u001b[39mJava gateway process exited before sending its port number\u001b[39m\u001b[39m\"\u001b[39m)\n\u001b[0;32m    108\u001b[0m \u001b[39mwith\u001b[39;00m \u001b[39mopen\u001b[39m(conn_info_file, \u001b[39m\"\u001b[39m\u001b[39mrb\u001b[39m\u001b[39m\"\u001b[39m) \u001b[39mas\u001b[39;00m info:\n\u001b[0;32m    109\u001b[0m     gateway_port \u001b[39m=\u001b[39m read_int(info)\n",
      "\u001b[1;31mRuntimeError\u001b[0m: Java gateway process exited before sending its port number"
     ]
    }
   ],
   "source": [
    "# Inicializa SparkSession\n",
    "spark = SparkSession.builder \\\n",
    "    .appName(\"Transformando CSV con Spark\") \\\n",
    "    .getOrCreate()\n",
    "\n",
    "# Carga el CSV con el esquema definido\n",
    "df = spark.read.csv(\"Tabla ConAbo completa.csv\", header=True, schema=schema)"
   ]
  },
  {
   "cell_type": "code",
   "execution_count": null,
   "metadata": {},
   "outputs": [],
   "source": [
    "columnas_datetime = ['CONFCHFINV', 'CONFCHINIV', 'CONFCHULTF', 'CONFCHING', 'CONFCHINS', 'CNVABOFCHI', 'CALQFCHDEV', 'CDGARFCHDE', 'CDGARFCH', 'CONFCHDXC', 'CONFCHSER', 'CONFCHAGE']\n"
   ]
  },
  {
   "cell_type": "code",
   "execution_count": null,
   "metadata": {},
   "outputs": [],
   "source": [
    "df.printSchema()"
   ]
  },
  {
   "cell_type": "code",
   "execution_count": null,
   "metadata": {},
   "outputs": [],
   "source": [
    "total_filas = df.count()\n",
    "print(\"Número total de filas:\", total_filas)"
   ]
  },
  {
   "cell_type": "code",
   "execution_count": null,
   "metadata": {},
   "outputs": [],
   "source": [
    "from pyspark.sql import SparkSession\n",
    "from pyspark.sql.functions import expr\n",
    "from pyspark.sql.types import DateType\n",
    "\n",
    "# Define una función para verificar si una fecha es anterior a 1900\n",
    "def check_fecha(fecha):\n",
    "    if fecha.year < 1900:\n",
    "        return None\n",
    "    else:\n",
    "        return fecha\n",
    "\n",
    "# Inicializa SparkSession\n",
    "spark = SparkSession.builder \\\n",
    "    .appName(\"Transformando Fechas en DataFrame\") \\\n",
    "    .getOrCreate()\n",
    "\n",
    "# Carga el CSV con el esquema definido (suponiendo que ya has cargado los datos en el DataFrame 'df')\n",
    "# df = ...\n",
    "\n",
    "# Define las columnas de fechas\n",
    "columnas_datetime = ['CONFCHFINV', 'CONFCHINIV', 'CONFCHULTF', 'CONFCHING', 'CONFCHINS', 'CNVABOFCHI', 'CALQFCHDEV', 'CDGARFCHDE', 'CDGARFCH', 'CONFCHDXC', 'CONFCHSER', 'CONFCHAGE']\n",
    "\n",
    "# Aplica la función 'check_fecha' a cada columna de fecha para eliminar las fechas anteriores a 1900\n",
    "for col_fecha in columnas_datetime:\n",
    "    df = df.withColumn(col_fecha, expr(f\"CASE WHEN YEAR({col_fecha}) >= 1900 THEN {col_fecha} ELSE NULL END\").cast(DateType()))\n",
    "\n",
    "# Muestra algunas filas del DataFrame transformado\n",
    "df.show(5)\n"
   ]
  },
  {
   "cell_type": "code",
   "execution_count": null,
   "metadata": {},
   "outputs": [],
   "source": [
    "# Comprueba si hay fechas menores a 1900 en las columnas de fecha\n",
    "fechas_menores_1900 = df.filter(\n",
    "    # Utiliza la función 'expr' para evaluar la condición en cada columna de fecha\n",
    "    expr(\" OR \".join([f\"{col_fecha} < '1900-01-01'\" for col_fecha in columnas_datetime]))\n",
    ")\n",
    "\n",
    "# Cuenta el número de filas con fechas menores a 1900\n",
    "num_fechas_menores_1900 = fechas_menores_1900.count()\n",
    "\n",
    "if num_fechas_menores_1900 == 0:\n",
    "    print(\"No hay fechas menores a 1900 en las columnas de fecha.\")\n",
    "else: \n",
    "    print(f\"Hay {num_fechas_menores_1900} fechas menores a 1900 en las columnas de fecha.\")"
   ]
  },
  {
   "cell_type": "code",
   "execution_count": null,
   "metadata": {},
   "outputs": [],
   "source": [
    "df.write.parquet(\"ruta_del_directorio_parquet\", mode=\"overwrite\")"
   ]
  },
  {
   "cell_type": "code",
   "execution_count": null,
   "metadata": {},
   "outputs": [],
   "source": [
    "from pyspark.sql import SparkSession\n",
    "\n",
    "# Inicializa SparkSession\n",
    "spark = SparkSession.builder \\\n",
    "    .appName(\"Transformando DataFrame y Exportando a Parquet\") \\\n",
    "    .config(\"spark.sql.parquet.writeLegacyFormat\", \"true\") \\\n",
    "    .getOrCreate()\n",
    "\n",
    "# Carga el DataFrame o realiza las transformaciones necesarias\n",
    "# df = ...\n",
    "\n",
    "# Guarda el DataFrame en formato Parquet\n",
    "# Reemplaza 'ruta_del_directorio_parquet' con la ubicación y nombre del directorio que desees para los archivos Parquet\n",
    "df.write.parquet(\"ruta_del_directorio_parquet\", mode=\"overwrite\")"
   ]
  },
  {
   "cell_type": "code",
   "execution_count": null,
   "metadata": {},
   "outputs": [],
   "source": [
    "from pyspark.sql import SparkSession\n",
    "\n",
    "# Crear una instancia de SparkSession\n",
    "spark = SparkSession.builder \\\n",
    "    .appName(\"Export CSV\") \\\n",
    "    .getOrCreate()\n",
    "\n",
    "# Supongamos que tienes un DataFrame llamado \"df\" que deseas exportar a CSV\n",
    "# Puedes leer datos desde un archivo o generar el DataFrame desde otras fuentes.\n",
    "\n",
    "# Ruta donde deseas exportar el archivo CSV\n",
    "ruta_exportacion = \"archivo.csv\"\n",
    "\n",
    "# Utilizar el método \"write\" del DataFrame para exportar a CSV\n",
    "df.write.csv(ruta_exportacion, header=True, mode=\"overwrite\")\n",
    "\n",
    "# Detener la sesión de Spark al finalizar\n",
    "spark.stop()"
   ]
  }
 ],
 "metadata": {
  "kernelspec": {
   "display_name": "Python 3",
   "language": "python",
   "name": "python3"
  },
  "language_info": {
   "codemirror_mode": {
    "name": "ipython",
    "version": 3
   },
   "file_extension": ".py",
   "mimetype": "text/x-python",
   "name": "python",
   "nbconvert_exporter": "python",
   "pygments_lexer": "ipython3",
   "version": "3.10.11"
  },
  "orig_nbformat": 4
 },
 "nbformat": 4,
 "nbformat_minor": 2
}
